{
 "cells": [
  {
   "cell_type": "markdown",
   "id": "1e8a4912",
   "metadata": {},
   "source": [
    "In this notebook I perform a sentiment analysis on my Rotten Tomatoes set that was scraped in the other notebook. I use an LSTM  Sequential model using the keras module in tensorflow. On average, the trained model has around 89% accuracy on the test data."
   ]
  },
  {
   "cell_type": "code",
   "execution_count": 9,
   "id": "d8e0646b",
   "metadata": {},
   "outputs": [],
   "source": [
    "# import necessary libraries for text cleaning and NLP\n",
    "import pandas as pd\n",
    "import numpy as np\n",
    "from tensorflow.keras.preprocessing.text import Tokenizer\n",
    "from tensorflow.keras.preprocessing.sequence import pad_sequences\n",
    "from tensorflow.keras.models import Sequential\n",
    "from tensorflow.keras.layers import LSTM, Dense, Dropout, SpatialDropout1D\n",
    "from tensorflow.keras.layers import Embedding\n",
    "from nltk.tokenize.treebank import TreebankWordDetokenizer\n",
    "import matplotlib.pyplot as plt\n",
    "import re\n",
    "import gensim\n",
    "%matplotlib inline"
   ]
  },
  {
   "cell_type": "code",
   "execution_count": 2,
   "id": "a027232a",
   "metadata": {},
   "outputs": [
    {
     "data": {
      "text/html": [
       "<div>\n",
       "<style scoped>\n",
       "    .dataframe tbody tr th:only-of-type {\n",
       "        vertical-align: middle;\n",
       "    }\n",
       "\n",
       "    .dataframe tbody tr th {\n",
       "        vertical-align: top;\n",
       "    }\n",
       "\n",
       "    .dataframe thead th {\n",
       "        text-align: right;\n",
       "    }\n",
       "</style>\n",
       "<table border=\"1\" class=\"dataframe\">\n",
       "  <thead>\n",
       "    <tr style=\"text-align: right;\">\n",
       "      <th></th>\n",
       "      <th>title</th>\n",
       "      <th>director</th>\n",
       "      <th>gross (usd)</th>\n",
       "      <th>tomatometer_scores_avg</th>\n",
       "      <th>audience_scores_avg</th>\n",
       "      <th>year_genre_length</th>\n",
       "      <th>critic</th>\n",
       "      <th>date_of_review</th>\n",
       "      <th>reviews</th>\n",
       "      <th>score</th>\n",
       "      <th>is_fresh</th>\n",
       "      <th>is_rotten</th>\n",
       "      <th>is_top_critic</th>\n",
       "    </tr>\n",
       "  </thead>\n",
       "  <tbody>\n",
       "    <tr>\n",
       "      <th>0</th>\n",
       "      <td>Nomadland (2021)</td>\n",
       "      <td>Chloé Zhao</td>\n",
       "      <td>0</td>\n",
       "      <td>93</td>\n",
       "      <td>82.0</td>\n",
       "      <td>2020, Drama, 1h 48m</td>\n",
       "      <td>Victor Pineyro</td>\n",
       "      <td>Oct 22, 2021</td>\n",
       "      <td>We are terrified by the idea that, as Fern, we...</td>\n",
       "      <td>9/10</td>\n",
       "      <td>1</td>\n",
       "      <td>0</td>\n",
       "      <td>0</td>\n",
       "    </tr>\n",
       "    <tr>\n",
       "      <th>1</th>\n",
       "      <td>Nomadland (2021)</td>\n",
       "      <td>Chloé Zhao</td>\n",
       "      <td>0</td>\n",
       "      <td>93</td>\n",
       "      <td>82.0</td>\n",
       "      <td>2020, Drama, 1h 48m</td>\n",
       "      <td>Fernanda Solórzano</td>\n",
       "      <td>Sep 28, 2021</td>\n",
       "      <td>Beautiful cinematography in an alienating film...</td>\n",
       "      <td>NaN</td>\n",
       "      <td>0</td>\n",
       "      <td>1</td>\n",
       "      <td>0</td>\n",
       "    </tr>\n",
       "    <tr>\n",
       "      <th>2</th>\n",
       "      <td>Nomadland (2021)</td>\n",
       "      <td>Chloé Zhao</td>\n",
       "      <td>0</td>\n",
       "      <td>93</td>\n",
       "      <td>82.0</td>\n",
       "      <td>2020, Drama, 1h 48m</td>\n",
       "      <td>Witney Seibold</td>\n",
       "      <td>Sep 13, 2021</td>\n",
       "      <td>Featuring one of McDormand's best performances...</td>\n",
       "      <td>NaN</td>\n",
       "      <td>1</td>\n",
       "      <td>0</td>\n",
       "      <td>0</td>\n",
       "    </tr>\n",
       "    <tr>\n",
       "      <th>3</th>\n",
       "      <td>Nomadland (2021)</td>\n",
       "      <td>Chloé Zhao</td>\n",
       "      <td>0</td>\n",
       "      <td>93</td>\n",
       "      <td>82.0</td>\n",
       "      <td>2020, Drama, 1h 48m</td>\n",
       "      <td>Robin Holabird</td>\n",
       "      <td>Jul 16, 2021</td>\n",
       "      <td>This warmth and genuine appreciation of people...</td>\n",
       "      <td>NaN</td>\n",
       "      <td>1</td>\n",
       "      <td>0</td>\n",
       "      <td>0</td>\n",
       "    </tr>\n",
       "    <tr>\n",
       "      <th>4</th>\n",
       "      <td>Nomadland (2021)</td>\n",
       "      <td>Chloé Zhao</td>\n",
       "      <td>0</td>\n",
       "      <td>93</td>\n",
       "      <td>82.0</td>\n",
       "      <td>2020, Drama, 1h 48m</td>\n",
       "      <td>David Katz</td>\n",
       "      <td>Jul 13, 2021</td>\n",
       "      <td>It ultimately reverts to homilies, offering a ...</td>\n",
       "      <td>B-</td>\n",
       "      <td>0</td>\n",
       "      <td>1</td>\n",
       "      <td>0</td>\n",
       "    </tr>\n",
       "  </tbody>\n",
       "</table>\n",
       "</div>"
      ],
      "text/plain": [
       "              title    director gross (usd)  tomatometer_scores_avg  \\\n",
       "0  Nomadland (2021)  Chloé Zhao           0                      93   \n",
       "1  Nomadland (2021)  Chloé Zhao           0                      93   \n",
       "2  Nomadland (2021)  Chloé Zhao           0                      93   \n",
       "3  Nomadland (2021)  Chloé Zhao           0                      93   \n",
       "4  Nomadland (2021)  Chloé Zhao           0                      93   \n",
       "\n",
       "   audience_scores_avg    year_genre_length              critic  \\\n",
       "0                 82.0  2020, Drama, 1h 48m      Victor Pineyro   \n",
       "1                 82.0  2020, Drama, 1h 48m  Fernanda Solórzano   \n",
       "2                 82.0  2020, Drama, 1h 48m      Witney Seibold   \n",
       "3                 82.0  2020, Drama, 1h 48m      Robin Holabird   \n",
       "4                 82.0  2020, Drama, 1h 48m          David Katz   \n",
       "\n",
       "  date_of_review                                            reviews score  \\\n",
       "0   Oct 22, 2021  We are terrified by the idea that, as Fern, we...  9/10   \n",
       "1   Sep 28, 2021  Beautiful cinematography in an alienating film...   NaN   \n",
       "2   Sep 13, 2021  Featuring one of McDormand's best performances...   NaN   \n",
       "3   Jul 16, 2021  This warmth and genuine appreciation of people...   NaN   \n",
       "4   Jul 13, 2021  It ultimately reverts to homilies, offering a ...    B-   \n",
       "\n",
       "   is_fresh  is_rotten  is_top_critic  \n",
       "0         1          0              0  \n",
       "1         0          1              0  \n",
       "2         1          0              0  \n",
       "3         1          0              0  \n",
       "4         0          1              0  "
      ]
     },
     "execution_count": 2,
     "metadata": {},
     "output_type": "execute_result"
    }
   ],
   "source": [
    "#import the data into a DataFrame\n",
    "df = pd.read_csv('rotten_tomatoes_review_data.csv', delimiter = '\\t')\n",
    "df.head()"
   ]
  },
  {
   "cell_type": "code",
   "execution_count": 18,
   "id": "c1227d4c",
   "metadata": {},
   "outputs": [
    {
     "data": {
      "text/plain": [
       "0    15024\n",
       "1     1373\n",
       "Name: is_rotten, dtype: int64"
      ]
     },
     "execution_count": 18,
     "metadata": {},
     "output_type": "execute_result"
    }
   ],
   "source": [
    "#we're only concerned with whether or not a review is good, so we'll need the 'reviews' column and the 'is_rotten' column\n",
    "df_analysis = df[['reviews', 'is_rotten']]\n",
    "sentiment_label = df_analysis.is_rotten.factorize()\n",
    "df_analysis['is_rotten'].value_counts() #count of good and bad reviews"
   ]
  },
  {
   "cell_type": "markdown",
   "id": "95b0dc0b",
   "metadata": {},
   "source": [
    "We need to transform the data into an array of vector embeddings, since machine learning models can't work with text values. We give each unique word a unique number and then replace that word in each review with the assigned number."
   ]
  },
  {
   "cell_type": "code",
   "execution_count": 4,
   "id": "8f8b1cbf",
   "metadata": {},
   "outputs": [],
   "source": [
    "review = df_analysis['reviews']"
   ]
  },
  {
   "cell_type": "code",
   "execution_count": 5,
   "id": "ac6983ac",
   "metadata": {},
   "outputs": [],
   "source": [
    "#define a function to purify the data a bit\n",
    "def depure_data(data):\n",
    "    \n",
    "    #Removing URLs with a regular expression\n",
    "    url_pattern = re.compile(r'https?://\\S+|www\\.\\S+')\n",
    "    data = url_pattern.sub(r'', data)\n",
    "\n",
    "    # Remove Emails\n",
    "    data = re.sub('\\S*@\\S*\\s?', '', data)\n",
    "\n",
    "    # Remove new line characters\n",
    "    data = re.sub('\\s+', ' ', data)\n",
    "\n",
    "    # Remove distracting single quotes\n",
    "    data = re.sub(\"\\'\", \"\", data)\n",
    "    \n",
    "    #remove bracket characters\n",
    "    data = re.sub('\\[', '', data)\n",
    "    data = re.sub('\\]', '', data)\n",
    "        \n",
    "    return data"
   ]
  },
  {
   "cell_type": "code",
   "execution_count": 8,
   "id": "369e5b10",
   "metadata": {},
   "outputs": [
    {
     "data": {
      "text/plain": [
       "['We are terrified by the idea that, as Fern, we might have an incredibly frail appearance of stability. What would we do if life doesnt turn out the way we wanted it to? Nomadland provided the freedom we wanted in 2020. Full review in Spanish',\n",
       " 'Beautiful cinematography in an alienating film doesnt have much value... Nomadland ends up idealizing an unideal situation. Full review in Spanish',\n",
       " 'Featuring one of McDormands best performances - a role she occupies deeply - and emotionally dissecting the economic terrors of backwater America, Nomadland is one of the best of the year.',\n",
       " 'This warmth and genuine appreciation of people and the many routes they take make Nomadland one of the best movies in Nevadas supply of road pictures.',\n",
       " 'It ultimately reverts to homilies, offering a flinty, exciting character a bland third-act volte-face.']"
      ]
     },
     "execution_count": 8,
     "metadata": {},
     "output_type": "execute_result"
    }
   ],
   "source": [
    "#purifying the data using the above function\n",
    "temp = []\n",
    "#Splitting pd.Series to list\n",
    "data_to_list = df_analysis['reviews'].values.tolist()\n",
    "for i in range(len(data_to_list)):\n",
    "    temp.append(depure_data(data_to_list[i]))\n",
    "list(temp[:5])"
   ]
  },
  {
   "cell_type": "code",
   "execution_count": 10,
   "id": "539e3cd2",
   "metadata": {},
   "outputs": [
    {
     "name": "stdout",
     "output_type": "stream",
     "text": [
      "[['we', 'are', 'terrified', 'by', 'the', 'idea', 'that', 'as', 'fern', 'we', 'might', 'have', 'an', 'incredibly', 'frail', 'appearance', 'of', 'stability', 'what', 'would', 'we', 'do', 'if', 'life', 'doesnt', 'turn', 'out', 'the', 'way', 'we', 'wanted', 'it', 'to', 'nomadland', 'provided', 'the', 'freedom', 'we', 'wanted', 'in', 'full', 'review', 'in', 'spanish'], ['beautiful', 'cinematography', 'in', 'an', 'alienating', 'film', 'doesnt', 'have', 'much', 'value', 'nomadland', 'ends', 'up', 'idealizing', 'an', 'unideal', 'situation', 'full', 'review', 'in', 'spanish'], ['featuring', 'one', 'of', 'mcdormands', 'best', 'performances', 'role', 'she', 'occupies', 'deeply', 'and', 'emotionally', 'dissecting', 'the', 'economic', 'terrors', 'of', 'backwater', 'america', 'nomadland', 'is', 'one', 'of', 'the', 'best', 'of', 'the', 'year'], ['this', 'warmth', 'and', 'genuine', 'appreciation', 'of', 'people', 'and', 'the', 'many', 'routes', 'they', 'take', 'make', 'nomadland', 'one', 'of', 'the', 'best', 'movies', 'in', 'nevadas', 'supply', 'of', 'road', 'pictures'], ['it', 'ultimately', 'reverts', 'to', 'homilies', 'offering', 'flinty', 'exciting', 'character', 'bland', 'third', 'act', 'volte', 'face']]\n"
     ]
    }
   ],
   "source": [
    "#function to split each review up into a list of the individual words\n",
    "def sent_to_words(sentences):\n",
    "    for sentence in sentences:\n",
    "        yield(gensim.utils.simple_preprocess(str(sentence), deacc=True))  # deacc=True removes punctuations\n",
    "        \n",
    "\n",
    "data_words = list(sent_to_words(temp))\n",
    "\n",
    "print(data_words[:5])"
   ]
  },
  {
   "cell_type": "code",
   "execution_count": 11,
   "id": "f709082b",
   "metadata": {},
   "outputs": [
    {
     "name": "stdout",
     "output_type": "stream",
     "text": [
      "['we are terrified by the idea that as fern we might have an incredibly frail appearance of stability what would we do if life doesnt turn out the way we wanted it to nomadland provided the freedom we wanted in full review in spanish', 'beautiful cinematography in an alienating film doesnt have much value nomadland ends up idealizing an unideal situation full review in spanish', 'featuring one of mcdormands best performances role she occupies deeply and emotionally dissecting the economic terrors of backwater america nomadland is one of the best of the year', 'this warmth and genuine appreciation of people and the many routes they take make nomadland one of the best movies in nevadas supply of road pictures', 'it ultimately reverts to homilies offering flinty exciting character bland third act volte face']\n"
     ]
    }
   ],
   "source": [
    "#detokenize the text data\n",
    "def detokenize(text):\n",
    "    return TreebankWordDetokenizer().detokenize(text)\n",
    "\n",
    "#return the review into a sentence-type structure\n",
    "review = []\n",
    "for i in range(len(data_words)):\n",
    "    review.append(detokenize(data_words[i]))\n",
    "print(review[:5])"
   ]
  },
  {
   "cell_type": "code",
   "execution_count": 13,
   "id": "7b572482",
   "metadata": {},
   "outputs": [
    {
     "name": "stdout",
     "output_type": "stream",
     "text": [
      "we are terrified by the idea that as fern we might have an incredibly frail appearance of stability what would we do if life doesnt turn out the way we wanted it to nomadland provided the freedom we wanted in full review in spanish\n",
      "[63, 30, 23, 1, 819, 8, 11, 828, 63, 143, 37, 14, 820, 7695, 2884, 3, 7696, 35, 207, 63, 144, 40, 57, 98, 380, 53, 1, 66, 63, 1013, 9, 4, 229, 4272, 1, 1657, 63, 1013, 6, 41, 67, 6, 71]\n"
     ]
    }
   ],
   "source": [
    "#put the reviews back into an array and encode them into sequences of numbers\n",
    "data = np.array(review)\n",
    "tokenizer = Tokenizer(num_words=9001)\n",
    "tokenizer.fit_on_texts(review)\n",
    "vocab_size = len(tokenizer.word_index) + 1\n",
    "encoded_docs = tokenizer.texts_to_sequences(review)\n",
    "\n",
    "print(review[0])\n",
    "print(encoded_docs[0])"
   ]
  },
  {
   "cell_type": "code",
   "execution_count": 14,
   "id": "fadf903b",
   "metadata": {},
   "outputs": [
    {
     "name": "stdout",
     "output_type": "stream",
     "text": [
      "[   0    0    0    0    0    0    0   63   30   23    1  819    8   11\n",
      "  828   63  143   37   14  820 7695 2884    3 7696   35  207   63  144\n",
      "   40   57   98  380   53    1   66   63 1013    9    4  229 4272    1\n",
      " 1657   63 1013    6   41   67    6   71]\n"
     ]
    }
   ],
   "source": [
    "#pad the sequences to a maximum length of 50 so each of them are the same length\n",
    "padded_sequence = pad_sequences(encoded_docs, maxlen=50)\n",
    "print(padded_sequence[0])"
   ]
  },
  {
   "cell_type": "code",
   "execution_count": 15,
   "id": "22ade16d",
   "metadata": {},
   "outputs": [
    {
     "name": "stdout",
     "output_type": "stream",
     "text": [
      "Model: \"sequential\"\n",
      "_________________________________________________________________\n",
      " Layer (type)                Output Shape              Param #   \n",
      "=================================================================\n",
      " embedding (Embedding)       (None, 50, 10)            169250    \n",
      "                                                                 \n",
      " spatial_dropout1d (SpatialD  (None, 50, 10)           0         \n",
      " ropout1D)                                                       \n",
      "                                                                 \n",
      " lstm (LSTM)                 (None, 50)                12200     \n",
      "                                                                 \n",
      " dropout (Dropout)           (None, 50)                0         \n",
      "                                                                 \n",
      " dense (Dense)               (None, 1)                 51        \n",
      "                                                                 \n",
      "=================================================================\n",
      "Total params: 181,501\n",
      "Trainable params: 181,501\n",
      "Non-trainable params: 0\n",
      "_________________________________________________________________\n",
      "None\n"
     ]
    }
   ],
   "source": [
    "#create the LSTM model\n",
    "\n",
    "embedding_vector_length = 10 #vocab size is 9000, so 10 is a good vector size\n",
    "model = Sequential() #building a keras Sequential model\n",
    "model.add(Embedding(vocab_size, embedding_vector_length, input_length=50)) #create embeddign vectors for the reviews\n",
    "model.add(SpatialDropout1D(0.25)) #to prevent over-fitting on training data, drop some entries randomly each epoch\n",
    "model.add(LSTM(50, dropout=0.5, recurrent_dropout=0.5)) #add LSTM layer\n",
    "model.add(Dropout(0.2)) #prevent over-fitting\n",
    "model.add(Dense(1, activation='sigmoid')) #compile the activation function\n",
    "model.compile(loss='binary_crossentropy',optimizer='adam', metrics=['accuracy']) #using binary_crossentropy as the loss function since this is binary classification\n",
    "model.build()\n",
    "print(model.summary())"
   ]
  },
  {
   "cell_type": "code",
   "execution_count": 19,
   "id": "1c153df7",
   "metadata": {},
   "outputs": [
    {
     "name": "stdout",
     "output_type": "stream",
     "text": [
      "Epoch 1/5\n",
      "1312/1312 [==============================] - 43s 31ms/step - loss: 0.2736 - accuracy: 0.9218 - val_loss: 0.3089 - val_accuracy: 0.8912\n",
      "Epoch 2/5\n",
      "1312/1312 [==============================] - 40s 30ms/step - loss: 0.1840 - accuracy: 0.9349 - val_loss: 0.3238 - val_accuracy: 0.8893\n",
      "Epoch 3/5\n",
      "1312/1312 [==============================] - 40s 31ms/step - loss: 0.1348 - accuracy: 0.9527 - val_loss: 0.3386 - val_accuracy: 0.8960\n",
      "Epoch 4/5\n",
      "1312/1312 [==============================] - 35s 27ms/step - loss: 0.1045 - accuracy: 0.9645 - val_loss: 0.4065 - val_accuracy: 0.8918\n",
      "Epoch 5/5\n",
      "1312/1312 [==============================] - 38s 29ms/step - loss: 0.0812 - accuracy: 0.9718 - val_loss: 0.4445 - val_accuracy: 0.8936\n"
     ]
    }
   ],
   "source": [
    "#train the model for 5 epochs\n",
    "history = model.fit(padded_sequence,sentiment_label[0],validation_split=0.2, epochs=5, batch_size=10)"
   ]
  },
  {
   "cell_type": "code",
   "execution_count": 20,
   "id": "f95a91ea",
   "metadata": {},
   "outputs": [
    {
     "data": {
      "image/png": "[encoded data removed]",
      "text/plain": [
       "<Figure size 432x288 with 1 Axes>"
      ]
     },
     "metadata": {
      "needs_background": "light"
     },
     "output_type": "display_data"
    },
    {
     "data": {
      "text/plain": [
       "<Figure size 432x288 with 0 Axes>"
      ]
     },
     "metadata": {},
     "output_type": "display_data"
    }
   ],
   "source": [
    "#plot the accuracy of the model on the training set and test set\n",
    "plt.plot(history.history['accuracy'], label='Accuracy')\n",
    "plt.plot(history.history['val_accuracy'], label='Validation Accuracy')\n",
    "plt.legend()\n",
    "plt.show()\n",
    "plt.savefig(\"Accuracy plot.jpg\")"
   ]
  },
  {
   "cell_type": "markdown",
   "id": "a5f696de",
   "metadata": {},
   "source": [
    "While the fitting does better on the training data over time (which is what a neural net is designed to do over each epoch), the validation accuracy does not budge at all. Thus, the more epochs we impose on the neural net, the more we risk over-fitting on the training data."
   ]
  },
  {
   "cell_type": "code",
   "execution_count": 21,
   "id": "ddbb58cb",
   "metadata": {},
   "outputs": [
    {
     "data": {
      "image/png": "[encoded data removed]",
      "text/plain": [
       "<Figure size 432x288 with 1 Axes>"
      ]
     },
     "metadata": {
      "needs_background": "light"
     },
     "output_type": "display_data"
    },
    {
     "data": {
      "text/plain": [
       "<Figure size 432x288 with 0 Axes>"
      ]
     },
     "metadata": {},
     "output_type": "display_data"
    }
   ],
   "source": [
    "#plot the losses of the training data and testing data\n",
    "plt.plot(history.history['loss'], label='Training Loss')\n",
    "plt.plot(history.history['val_loss'], label='Validation Loss')\n",
    "plt.legend()\n",
    "plt.show()\n",
    "plt.savefig(\"Loss plt.jpg\")"
   ]
  },
  {
   "cell_type": "markdown",
   "id": "7d7d1f87",
   "metadata": {},
   "source": [
    "Now we want to execute our model on some test reviews."
   ]
  },
  {
   "cell_type": "code",
   "execution_count": 22,
   "id": "6670e3a8",
   "metadata": {},
   "outputs": [
    {
     "name": "stdout",
     "output_type": "stream",
     "text": [
      "Predicted label:  0\n",
      "Predicted label:  1\n"
     ]
    }
   ],
   "source": [
    "def predict_sentiment(text):\n",
    "    tw = tokenizer.texts_to_sequences([text])\n",
    "    tw = pad_sequences(tw,maxlen=50)\n",
    "    prediction = int(model.predict(tw).round().item())\n",
    "    print(\"Predicted label: \", sentiment_label[1][prediction])\n",
    "\n",
    "    \n",
    "test_sentence1 = \"The film's breadth of opinions - of which there are too many to recount in a single article - indicates that there is no 'right' choice, and impressively captures a debate that may not rage forever.\"\n",
    "predict_sentiment(test_sentence1)\n",
    "test_sentence2 = \"The documentary would have been that much better with a more explicit focus on why the average filmgoer should care.\"\n",
    "predict_sentiment(test_sentence2)"
   ]
  }
 ],
 "metadata": {
  "kernelspec": {
   "display_name": "Python 3",
   "language": "python",
   "name": "python3"
  },
  "language_info": {
   "codemirror_mode": {
    "name": "ipython",
    "version": 3
   },
   "file_extension": ".py",
   "mimetype": "text/x-python",
   "name": "python",
   "nbconvert_exporter": "python",
   "pygments_lexer": "ipython3",
   "version": "3.8.8"
  }
 },
 "nbformat": 4,
 "nbformat_minor": 5
}
